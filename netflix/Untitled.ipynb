{
 "cells": [
  {
   "cell_type": "code",
   "execution_count": 62,
   "metadata": {},
   "outputs": [],
   "source": [
    "import numpy as np\n",
    "import scipy.stats"
   ]
  },
  {
   "cell_type": "code",
   "execution_count": 63,
   "metadata": {},
   "outputs": [],
   "source": [
    "X = np.array([[0.85794562, 0.84725174],\n",
    "              [0.6235637, 0.38438171],\n",
    "              [0.29753461, 0.05671298],\n",
    "              [0.27265629, 0.47766512],\n",
    "              [0.81216873, 0.47997717],\n",
    "              [0.3927848, 0.83607876],\n",
    "              [0.33739616, 0.64817187],\n",
    "              [0.36824154, 0.95715516],\n",
    "              [0.14035078, 0.87008726],\n",
    "              [0.47360805, 0.80091075],\n",
    "              [0.52047748, 0.67887953],\n",
    "              [0.72063265, 0.58201979],\n",
    "              [0.53737323, 0.75861562],\n",
    "              [0.10590761, 0.47360042],\n",
    "              [0.18633234, 0.73691818]])"
   ]
  },
  {
   "cell_type": "code",
   "execution_count": 65,
   "metadata": {},
   "outputs": [],
   "source": [
    "K = 6"
   ]
  },
  {
   "cell_type": "code",
   "execution_count": 66,
   "metadata": {},
   "outputs": [],
   "source": [
    "Mu = np.array([[0.6235637, 0.38438171],\n",
    "               [0.3927848, 0.83607876],\n",
    "               [0.81216873, 0.47997717],\n",
    "               [0.14035078, 0.87008726],\n",
    "               [0.36824154, 0.95715516],\n",
    "               [0.10590761, 0.47360042]])"
   ]
  },
  {
   "cell_type": "code",
   "execution_count": 67,
   "metadata": {},
   "outputs": [],
   "source": [
    "Var =  np.array([0.10038354, 0.07227467, 0.13240693, 0.12411825, 0.10497521, 0.12220856])"
   ]
  },
  {
   "cell_type": "code",
   "execution_count": 68,
   "metadata": {},
   "outputs": [],
   "source": [
    "P = np.array([0.1680912, 0.15835331, 0.21384187, 0.14223565, 0.14295074, 0.17452722])"
   ]
  },
  {
   "cell_type": "code",
   "execution_count": 70,
   "metadata": {},
   "outputs": [],
   "source": [
    "post = np.array([[0.17354324, 0.19408461, 0.38136556, 0.0569083, 0.16250611, 0.03159219], \n",
    "                [0.39379907, 0.08689908, 0.32081103, 0.04067548, 0.04920547, 0.10860986],\n",
    "                 [0.35788286, 0.01907566, 0.18709725, 0.04472511, 0.01732312, 0.37389601],\n",
    "                [0.19268431, 0.18091751, 0.11938917, 0.12743323, 0.09677628, 0.28279951],\n",
    "                [0.36304946, 0.07311615, 0.43750366, 0.02729566, 0.04877955, 0.05025552],\n",
    "                [0.07858663, 0.37039817, 0.08705556, 0.14917384, 0.21407078, 0.10071502],\n",
    "                [0.13662023, 0.29150288, 0.10750309, 0.13944117, 0.14926196, 0.17567066],\n",
    "                [0.04532867, 0.37841271, 0.06233585, 0.17307275, 0.2613835, 0.07946652],\n",
    "                [0.03479877, 0.30116079, 0.03560306, 0.24675099, 0.22083886, 0.16084754],\n",
    "                [0.1084787, 0.35703165, 0.12209296, 0.12356811, 0.19771701, 0.09111156],\n",
    "                [0.18151437, 0.29042408, 0.1775779, 0.09728296, 0.14845737, 0.10474333],\n",
    "                [0.30076285, 0.15240546, 0.34401968, 0.04831719, 0.08817504, 0.06631978],\n",
    "                [0.14424702, 0.32662602, 0.16265301, 0.10373169, 0.17686354, 0.08587872],\n",
    "                [0.12020157, 0.14175102, 0.06966009, 0.17178204, 0.09140514, 0.40520014],\n",
    "                [0.06707408, 0.29382796, 0.05528713, 0.20393925, 0.17797873, 0.20189285]])"
   ]
  },
  {
   "cell_type": "code",
   "execution_count": 71,
   "metadata": {},
   "outputs": [],
   "source": [
    "LL = -5.592899"
   ]
  },
  {
   "cell_type": "code",
   "execution_count": 72,
   "metadata": {},
   "outputs": [],
   "source": [
    "def estep(X: np.ndarray, mixture: GaussianMixture) -> Tuple[np.ndarray, float]:\n",
    "    \"\"\"E-step: Softly assigns each datapoint to a gaussian component\n",
    "\n",
    "    Args:\n",
    "        X: (n, d) array holding the data\n",
    "        mixture: the current gaussian mixture\n",
    "\n",
    "    Returns:\n",
    "        np.ndarray: (n, K) array holding the soft counts\n",
    "            for all components for all examples\n",
    "        float: log-likelihood of the assignment\n",
    "    \"\"\"\n",
    "    x_dim = X.shape \n",
    "    rows = x_dim[0]\n",
    "    cols = x_dim[1]\n",
    "    for i in range(rows):\n",
    "        sum = 0\n",
    "        for j in range(cols):\n",
    "            v = mixture.var[j]\n",
    "            m = mixture.mu[j]\n",
    "            p = mixture.p[j]\n",
    "            tiled_vector = np.tile(X[i, :], (cols, 1))\n",
    "            mvg = GaussianMixture(tiled_vector, m, v)\n",
    "            sse = float(p) * mvg\n",
    "            sum += sse\n",
    "            post[i, j] = sse\n",
    "        post[i] = post[i] / sum\n",
    "        ll += np.log(sum)\n",
    "        return post, ll\n",
    "    raise NotImplementedError\n"
   ]
  },
  {
   "cell_type": "code",
   "execution_count": 74,
   "metadata": {},
   "outputs": [
    {
     "ename": "NameError",
     "evalue": "name 'GaussiaMixture' is not defined",
     "output_type": "error",
     "traceback": [
      "\u001b[0;31m---------------------------------------------------------------------------\u001b[0m",
      "\u001b[0;31mNameError\u001b[0m                                 Traceback (most recent call last)",
      "\u001b[0;32m<ipython-input-74-9a31b421768f>\u001b[0m in \u001b[0;36m<module>\u001b[0;34m\u001b[0m\n\u001b[0;32m----> 1\u001b[0;31m \u001b[0mestep\u001b[0m\u001b[0;34m(\u001b[0m\u001b[0mX\u001b[0m\u001b[0;34m,\u001b[0m \u001b[0mGaussiaMixture\u001b[0m\u001b[0;34m)\u001b[0m\u001b[0;34m\u001b[0m\u001b[0;34m\u001b[0m\u001b[0m\n\u001b[0m",
      "\u001b[0;31mNameError\u001b[0m: name 'GaussiaMixture' is not defined"
     ]
    }
   ],
   "source": [
    "estep(X, GaussiaMixture)"
   ]
  },
  {
   "cell_type": "code",
   "execution_count": null,
   "metadata": {},
   "outputs": [],
   "source": []
  }
 ],
 "metadata": {
  "kernelspec": {
   "display_name": "Python 3",
   "language": "python",
   "name": "python3"
  },
  "language_info": {
   "codemirror_mode": {
    "name": "ipython",
    "version": 3
   },
   "file_extension": ".py",
   "mimetype": "text/x-python",
   "name": "python",
   "nbconvert_exporter": "python",
   "pygments_lexer": "ipython3",
   "version": "3.7.3"
  }
 },
 "nbformat": 4,
 "nbformat_minor": 2
}
